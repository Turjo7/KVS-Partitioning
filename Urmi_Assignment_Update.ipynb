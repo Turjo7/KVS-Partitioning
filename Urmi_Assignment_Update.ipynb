{
  "nbformat": 4,
  "nbformat_minor": 0,
  "metadata": {
    "colab": {
      "name": "Urmi_Assignment_Update.ipynb",
      "provenance": []
    },
    "kernelspec": {
      "name": "python3",
      "display_name": "Python 3"
    }
  },
  "cells": [
    {
      "cell_type": "code",
      "metadata": {
        "id": "ujUWDVeh388z",
        "colab_type": "code",
        "colab": {}
      },
      "source": [
        "import math as m\n",
        "list_1 = []\n",
        "list_2=[]\n",
        "list_3=[]\n",
        "\n",
        "id = 11161201\n",
        "number_of_partitions_or_tablet = id % 10"
      ],
      "execution_count": 0,
      "outputs": []
    },
    {
      "cell_type": "code",
      "metadata": {
        "id": "EWxt3Iui4Ccd",
        "colab_type": "code",
        "colab": {
          "base_uri": "https://localhost:8080/",
          "height": 34
        },
        "outputId": "79fafce9-eee5-4045-d783-303fb95497b9"
      },
      "source": [
        "print(f'''Number of Partitions or Tablets: {number_of_partitions_or_tablet} ''')"
      ],
      "execution_count": 36,
      "outputs": [
        {
          "output_type": "stream",
          "text": [
            "Number of Partitions or Tablets: 1 \n"
          ],
          "name": "stdout"
        }
      ]
    },
    {
      "cell_type": "code",
      "metadata": {
        "id": "CI_caRsu4GOP",
        "colab_type": "code",
        "colab": {
          "base_uri": "https://localhost:8080/",
          "height": 51
        },
        "outputId": "86278174-a050-44d8-f559-35c1bcd15030"
      },
      "source": [
        "s = input(f'''Enter a String \"hash\" or \"range\": ''')\n",
        "number = int(input(f''' Enter a Number: '''))"
      ],
      "execution_count": 37,
      "outputs": [
        {
          "output_type": "stream",
          "text": [
            "Enter a String \"hash\" or \"range\": hash\n",
            " Enter a Number: 16\n"
          ],
          "name": "stdout"
        }
      ]
    },
    {
      "cell_type": "code",
      "metadata": {
        "id": "XG2hV37n4KQX",
        "colab_type": "code",
        "colab": {
          "base_uri": "https://localhost:8080/",
          "height": 51
        },
        "outputId": "3bbe9fd0-3420-4ddc-e3d7-4b3111390deb"
      },
      "source": [
        "print(s,type(s))\n",
        "print(number,type(number))"
      ],
      "execution_count": 27,
      "outputs": [
        {
          "output_type": "stream",
          "text": [
            "hash <class 'str'>\n",
            "16 <class 'int'>\n"
          ],
          "name": "stdout"
        }
      ]
    },
    {
      "cell_type": "code",
      "metadata": {
        "id": "mw6mC6xY4PuG",
        "colab_type": "code",
        "colab": {
          "base_uri": "https://localhost:8080/",
          "height": 34
        },
        "outputId": "e8f604f8-5c7c-478a-9049-05a20d19d23b"
      },
      "source": [
        "per_tablet_elements_number =m.ceil(number/number_of_partitions_or_tablet)\n",
        "print(per_tablet_elements_number)"
      ],
      "execution_count": 38,
      "outputs": [
        {
          "output_type": "stream",
          "text": [
            "16\n"
          ],
          "name": "stdout"
        }
      ]
    },
    {
      "cell_type": "code",
      "metadata": {
        "id": "Wp7qLn_n4V9w",
        "colab_type": "code",
        "colab": {
          "base_uri": "https://localhost:8080/",
          "height": 340
        },
        "outputId": "c96de972-be77-4ba8-94a6-9f1b3905d631"
      },
      "source": [
        "def hash_val(key):\n",
        "  return (key % 3)+1\n",
        "\n",
        "if s.lower()==\"range\":\n",
        "\n",
        " tablet = 1\n",
        " count = 0\n",
        " start = 1\n",
        " carry = 0\n",
        " outerloop_counter=1\n",
        "while outerloop_counter<number_of_partitions_or_tablet+1:\n",
        "  print(f'''Tablet {tablet} ''')\n",
        "  start = carry+1\n",
        "  count = 0\n",
        "  tablet = tablet+1\n",
        "  for j in range(start, number+1):\n",
        "    if count < per_tablet_elements_number:\n",
        "      print(f''' {j},{j*10}''')\n",
        "      count = count+1\n",
        "      carry = j\n",
        "  outerloop_counter=outerloop_counter+1\n",
        "\n",
        "\n",
        "\n",
        " \n",
        "\n",
        "\n",
        "\n",
        "\n",
        "\n",
        "if s.lower()==\"hash\":\n",
        " for i in range(1,number+1):\n",
        "        if hash_val(i)==1:\n",
        "            list_1.append(i)\n",
        "\n",
        "\n",
        "        elif hash_val(i)==2:\n",
        "             list_2.append(i)\n",
        "\n",
        "        elif hash_val(i)==3:\n",
        "            list_3.append(i)\n",
        "\n",
        "if len(list_1)>0:\n",
        "    print(f'''Tablet 1 ''')\n",
        "\n",
        "    for i in list_1:\n",
        "        print(f''' {i},{i*10}''')\n",
        "\n",
        "if len(list_2)>0:\n",
        "    print(f'''Tablet 2 ''')\n",
        "\n",
        "    for i in list_2:\n",
        "        print(f''' {i},{i*10}''')\n",
        "\n",
        "\n",
        "\n",
        "if len(list_3)>0:\n",
        "    print(f'''Tablet 3 ''')\n",
        "\n",
        "    for i in list_3:\n",
        "        print(f''' {i},{i*10}''')\n"
      ],
      "execution_count": 39,
      "outputs": [
        {
          "output_type": "stream",
          "text": [
            "Tablet 1 \n",
            " 3,30\n",
            " 6,60\n",
            " 9,90\n",
            " 12,120\n",
            " 15,150\n",
            "Tablet 2 \n",
            " 1,10\n",
            " 4,40\n",
            " 7,70\n",
            " 10,100\n",
            " 13,130\n",
            " 16,160\n",
            "Tablet 3 \n",
            " 2,20\n",
            " 5,50\n",
            " 8,80\n",
            " 11,110\n",
            " 14,140\n"
          ],
          "name": "stdout"
        }
      ]
    }
  ]
}